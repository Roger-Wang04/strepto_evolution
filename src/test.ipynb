{
 "cells": [
  {
   "cell_type": "code",
   "execution_count": 11,
   "metadata": {},
   "outputs": [
    {
     "name": "stdout",
     "output_type": "stream",
     "text": [
      "Final lattice state: [0 0 1 1 1 0 1 1 0 0 0 0 1 0 1 1 0 0 0 0 0 0 1 1 0 0 1 1 0 1 1 1 0 1 1 1 1\n",
      " 1 0 0 0 0 1 0 0 1 1 0 0 0 0 1 1 0 1 0 1 0 1 0 1 0 0 1 0 1 0 1 0 0 1 0 1 1\n",
      " 0 0 1 0 1 1 1 0 1 1 1 1 0 0 0 1 0 0 0 0 0 1 1 1 1 0]\n",
      "Cumulative sum: [46575. 50561. 48582. 48382. 48474. 50456. 49860. 58094. 50899. 41726.\n",
      " 45426. 46951. 48816. 44642. 53799. 46914. 56200. 58282. 47078. 35641.\n",
      " 53277. 51134. 53087. 58609. 52377. 42614. 49339. 56871. 42295. 50580.\n",
      " 45028. 48282. 47165. 48012. 45148. 57116. 53329. 45722. 51836. 52564.\n",
      " 43604. 55050. 54772. 51179. 45603. 55138. 51081. 50757. 53903. 46583.\n",
      " 48852. 45790. 52388. 41583. 45640. 45104. 48584. 48095. 46590. 49200.\n",
      " 50402. 55324. 48360. 50964. 53735. 55741. 55872. 47912. 42200. 49318.\n",
      " 52272. 49905. 51927. 53440. 42990. 57107. 57247. 45547. 55743. 47554.\n",
      " 44702. 44798. 55302. 48394. 50603. 57795. 54051. 54585. 53425. 49154.\n",
      " 45354. 44968. 54683. 50544. 54390. 53593. 48981. 51974. 45679. 45059.]\n"
     ]
    }
   ],
   "source": [
    "import numpy as np\n",
    "\n",
    "# Simulation parameters\n",
    "num_sites = 100       # Number of elements in the array\n",
    "num_steps = 100000     # Number of Monte Carlo steps\n",
    "flip_prob = 0.1       # Probability of state flipping\n",
    "\n",
    "# Initialize random states (0 or 1)\n",
    "lattice = np.random.choice([0, 1], size=num_sites)\n",
    "cumulative_sum = np.zeros(num_sites)\n",
    "\n",
    "# Monte Carlo loop\n",
    "for step in range(num_steps):\n",
    "    site = np.random.randint(0, num_sites)  # Pick a random site\n",
    "    neighbor_sum = lattice[(site - 1) % num_sites] + lattice[(site + 1) % num_sites]  # Interaction with neighbors\n",
    "    \n",
    "    # Define interaction rule: favor flipping if neighbors are different\n",
    "    if np.random.rand() < flip_prob * (1 + neighbor_sum / 2):  \n",
    "        lattice[site] = 1 - lattice[site]  # Flip state (0 ↔ 1)\n",
    "    \n",
    "    # Update cumulative sum\n",
    "    cumulative_sum += lattice\n",
    "\n",
    "# Display final state\n",
    "print(\"Final lattice state:\", lattice)\n",
    "print(\"Cumulative sum:\", cumulative_sum)\n"
   ]
  },
  {
   "cell_type": "code",
   "execution_count": 3,
   "metadata": {},
   "outputs": [],
   "source": [
    "import numpy as np"
   ]
  },
  {
   "cell_type": "code",
   "execution_count": 1,
   "metadata": {},
   "outputs": [],
   "source": [
    "class AntibioticsGene:\n",
    "    \"\"\"\n",
    "    The antibiotics type is a 16 bit number\n",
    "    - 0x0000: No antibiotics\n",
    "    \"\"\"\n",
    "    \n",
    "    def __init__(self, antibiotics_type = 0x0000, gen_random = False):\n",
    "        if gen_random:\n",
    "            self.generate_random_antibiotics()\n",
    "        else:\n",
    "            self.antibiotics_type = antibiotics_type\n",
    "    \n",
    "    def generate_random_antibiotics(self):\n",
    "        self.antibiotics_type = np.random.randint(0, 2**16)\n",
    "\n",
    "    def get_antibiotics(self):\n",
    "        return self.antibiotics_type\n",
    "    \n",
    "    def set_antibiotics(self, antibiotics_type):\n",
    "        self.antibiotics_type = antibiotics_type\n",
    "    \n",
    "    def uniform_mutate(self):\n",
    "        \"\"\"\n",
    "        Uniform mutation\n",
    "        Each bit has a 50% chance of being flipped by the random mutation\n",
    "        \"\"\"\n",
    "        mutation = np.random.randint(0, 2**16)\n",
    "        self.antibiotics_type = self.antibiotics_type ^ mutation\n",
    "    def generate_mutation_mask(self):\n",
    "        \"\"\"\n",
    "        Generate a 16-bit mutation mask where each bit has 50% chance to be 1\n",
    "        Return the mask as an integer\n",
    "        \"\"\"\n",
    "        mutation_mask = 0\n",
    "        masks = []\n",
    "        for i in range(16):\n",
    "            if np.random.rand() < 0.5:\n",
    "                mutation_mask |= (1 << i)\n",
    "                masks.append(1)\n",
    "        return masks\n",
    "    def normal_mutate(self):\n",
    "        \"\"\"\n",
    "        Normal mutation\n",
    "        No of bit flipped is a random number from a normal distribution\n",
    "        \"\"\"\n",
    "        pass"
   ]
  },
  {
   "cell_type": "code",
   "execution_count": 4,
   "metadata": {},
   "outputs": [
    {
     "name": "stdout",
     "output_type": "stream",
     "text": [
      "[1, 1, 1, 1, 1, 1, 1, 1, 1]\n"
     ]
    }
   ],
   "source": [
    "print(AntibioticsGene().generate_mutation_mask())"
   ]
  },
  {
   "cell_type": "code",
   "execution_count": 19,
   "metadata": {},
   "outputs": [],
   "source": [
    "import sys\n",
    "import numpy as np\n",
    "sys.path.append(\"./src\")  # or the absolute path to src\n",
    "from cell_evo import EvoSpace, BacterialCell\n"
   ]
  },
  {
   "cell_type": "code",
   "execution_count": 20,
   "metadata": {},
   "outputs": [
    {
     "ename": "UnboundLocalError",
     "evalue": "cannot access local variable 'location' where it is not associated with a value",
     "output_type": "error",
     "traceback": [
      "\u001b[0;31m---------------------------------------------------------------------------\u001b[0m",
      "\u001b[0;31mUnboundLocalError\u001b[0m                         Traceback (most recent call last)",
      "Cell \u001b[0;32mIn[20], line 2\u001b[0m\n\u001b[1;32m      1\u001b[0m space \u001b[38;5;241m=\u001b[39m EvoSpace((\u001b[38;5;241m100\u001b[39m,\u001b[38;5;241m100\u001b[39m))\n\u001b[0;32m----> 2\u001b[0m \u001b[43mspace\u001b[49m\u001b[38;5;241;43m.\u001b[39;49m\u001b[43mgenerate_random_cells\u001b[49m\u001b[43m(\u001b[49m\u001b[38;5;241;43m10\u001b[39;49m\u001b[43m,\u001b[49m\u001b[38;5;241;43m5\u001b[39;49m\u001b[43m)\u001b[49m\n",
      "File \u001b[0;32m~/MCB/strepto_evolution/./src/cell_evo.py:135\u001b[0m, in \u001b[0;36mEvoSpace.generate_random_cells\u001b[0;34m(self, n_cells, genome_size)\u001b[0m\n\u001b[1;32m    133\u001b[0m \u001b[38;5;28;01mdef\u001b[39;00m\u001b[38;5;250m \u001b[39m\u001b[38;5;21mgenerate_random_cells\u001b[39m(\u001b[38;5;28mself\u001b[39m, n_cells, genome_size):\n\u001b[1;32m    134\u001b[0m     \u001b[38;5;28;01mfor\u001b[39;00m i \u001b[38;5;129;01min\u001b[39;00m \u001b[38;5;28mrange\u001b[39m(n_cells):\n\u001b[0;32m--> 135\u001b[0m         \u001b[38;5;28;01mwhile\u001b[39;00m \u001b[38;5;28mself\u001b[39m\u001b[38;5;241m.\u001b[39mget_cell(\u001b[43mlocation\u001b[49m) \u001b[38;5;129;01mis\u001b[39;00m \u001b[38;5;129;01mnot\u001b[39;00m \u001b[38;5;28;01mNone\u001b[39;00m:\n\u001b[1;32m    136\u001b[0m             location \u001b[38;5;241m=\u001b[39m (np\u001b[38;5;241m.\u001b[39mrandom\u001b[38;5;241m.\u001b[39mrandint(\u001b[38;5;241m0\u001b[39m, \u001b[38;5;28mself\u001b[39m\u001b[38;5;241m.\u001b[39mgenome_field\u001b[38;5;241m.\u001b[39mshape[\u001b[38;5;241m0\u001b[39m]), np\u001b[38;5;241m.\u001b[39mrandom\u001b[38;5;241m.\u001b[39mrandint(\u001b[38;5;241m0\u001b[39m, \u001b[38;5;28mself\u001b[39m\u001b[38;5;241m.\u001b[39mgenome_field\u001b[38;5;241m.\u001b[39mshape[\u001b[38;5;241m1\u001b[39m]))\n\u001b[1;32m    137\u001b[0m         cell \u001b[38;5;241m=\u001b[39m BacteriaCell(location, gen_random\u001b[38;5;241m=\u001b[39m\u001b[38;5;28;01mTrue\u001b[39;00m, genome_size\u001b[38;5;241m=\u001b[39mgenome_size, antibiotics_length \u001b[38;5;241m=\u001b[39m parameters[\u001b[38;5;124m'\u001b[39m\u001b[38;5;124mmu\u001b[39m\u001b[38;5;124m'\u001b[39m])\n",
      "\u001b[0;31mUnboundLocalError\u001b[0m: cannot access local variable 'location' where it is not associated with a value"
     ]
    }
   ],
   "source": [
    "space = EvoSpace((100,100))\n",
    "space.generate_random_cells(10,5)"
   ]
  },
  {
   "cell_type": "code",
   "execution_count": null,
   "metadata": {},
   "outputs": [
    {
     "ename": "UnboundLocalError",
     "evalue": "cannot access local variable 'location' where it is not associated with a value",
     "output_type": "error",
     "traceback": [
      "\u001b[0;31m---------------------------------------------------------------------------\u001b[0m",
      "\u001b[0;31mUnboundLocalError\u001b[0m                         Traceback (most recent call last)",
      "Cell \u001b[0;32mIn[17], line 1\u001b[0m\n\u001b[0;32m----> 1\u001b[0m \u001b[43mspace\u001b[49m\u001b[38;5;241;43m.\u001b[39;49m\u001b[43mgenerate_random_cells\u001b[49m\u001b[43m(\u001b[49m\u001b[38;5;241;43m10\u001b[39;49m\u001b[43m,\u001b[49m\u001b[38;5;241;43m5\u001b[39;49m\u001b[43m)\u001b[49m\n",
      "File \u001b[0;32m~/MCB/strepto_evolution/./src/cell_evo.py:135\u001b[0m, in \u001b[0;36mEvoSpace.generate_random_cells\u001b[0;34m(self, n_cells, genome_size)\u001b[0m\n\u001b[1;32m    133\u001b[0m \u001b[38;5;28;01mdef\u001b[39;00m\u001b[38;5;250m \u001b[39m\u001b[38;5;21mgenerate_random_cells\u001b[39m(\u001b[38;5;28mself\u001b[39m, n_cells, genome_size):\n\u001b[1;32m    134\u001b[0m     \u001b[38;5;28;01mfor\u001b[39;00m i \u001b[38;5;129;01min\u001b[39;00m \u001b[38;5;28mrange\u001b[39m(n_cells):\n\u001b[0;32m--> 135\u001b[0m         \u001b[38;5;28;01mwhile\u001b[39;00m \u001b[38;5;28mself\u001b[39m\u001b[38;5;241m.\u001b[39mget_cell(\u001b[43mlocation\u001b[49m) \u001b[38;5;129;01mis\u001b[39;00m \u001b[38;5;129;01mnot\u001b[39;00m \u001b[38;5;28;01mNone\u001b[39;00m:\n\u001b[1;32m    136\u001b[0m             location \u001b[38;5;241m=\u001b[39m (np\u001b[38;5;241m.\u001b[39mrandom\u001b[38;5;241m.\u001b[39mrandint(\u001b[38;5;241m0\u001b[39m, \u001b[38;5;28mself\u001b[39m\u001b[38;5;241m.\u001b[39mgenome_field\u001b[38;5;241m.\u001b[39mshape[\u001b[38;5;241m0\u001b[39m]), np\u001b[38;5;241m.\u001b[39mrandom\u001b[38;5;241m.\u001b[39mrandint(\u001b[38;5;241m0\u001b[39m, \u001b[38;5;28mself\u001b[39m\u001b[38;5;241m.\u001b[39mgenome_field\u001b[38;5;241m.\u001b[39mshape[\u001b[38;5;241m1\u001b[39m]))\n\u001b[1;32m    137\u001b[0m         cell \u001b[38;5;241m=\u001b[39m BacteriaCell(location, gen_random\u001b[38;5;241m=\u001b[39m\u001b[38;5;28;01mTrue\u001b[39;00m, genome_size\u001b[38;5;241m=\u001b[39mgenome_size, antibiotics_length \u001b[38;5;241m=\u001b[39m parameters[\u001b[38;5;124m'\u001b[39m\u001b[38;5;124mmu\u001b[39m\u001b[38;5;124m'\u001b[39m])\n",
      "\u001b[0;31mUnboundLocalError\u001b[0m: cannot access local variable 'location' where it is not associated with a value"
     ]
    }
   ],
   "source": []
  }
 ],
 "metadata": {
  "kernelspec": {
   "display_name": "Python3.11 (mcb_env)",
   "language": "python",
   "name": "mcb_env"
  },
  "language_info": {
   "codemirror_mode": {
    "name": "ipython",
    "version": 3
   },
   "file_extension": ".py",
   "mimetype": "text/x-python",
   "name": "python",
   "nbconvert_exporter": "python",
   "pygments_lexer": "ipython3",
   "version": "3.11.11"
  }
 },
 "nbformat": 4,
 "nbformat_minor": 2
}
