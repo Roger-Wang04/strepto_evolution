{
 "cells": [
  {
   "cell_type": "code",
   "execution_count": 11,
   "metadata": {},
   "outputs": [
    {
     "name": "stdout",
     "output_type": "stream",
     "text": [
      "Final lattice state: [0 0 1 1 1 0 1 1 0 0 0 0 1 0 1 1 0 0 0 0 0 0 1 1 0 0 1 1 0 1 1 1 0 1 1 1 1\n",
      " 1 0 0 0 0 1 0 0 1 1 0 0 0 0 1 1 0 1 0 1 0 1 0 1 0 0 1 0 1 0 1 0 0 1 0 1 1\n",
      " 0 0 1 0 1 1 1 0 1 1 1 1 0 0 0 1 0 0 0 0 0 1 1 1 1 0]\n",
      "Cumulative sum: [46575. 50561. 48582. 48382. 48474. 50456. 49860. 58094. 50899. 41726.\n",
      " 45426. 46951. 48816. 44642. 53799. 46914. 56200. 58282. 47078. 35641.\n",
      " 53277. 51134. 53087. 58609. 52377. 42614. 49339. 56871. 42295. 50580.\n",
      " 45028. 48282. 47165. 48012. 45148. 57116. 53329. 45722. 51836. 52564.\n",
      " 43604. 55050. 54772. 51179. 45603. 55138. 51081. 50757. 53903. 46583.\n",
      " 48852. 45790. 52388. 41583. 45640. 45104. 48584. 48095. 46590. 49200.\n",
      " 50402. 55324. 48360. 50964. 53735. 55741. 55872. 47912. 42200. 49318.\n",
      " 52272. 49905. 51927. 53440. 42990. 57107. 57247. 45547. 55743. 47554.\n",
      " 44702. 44798. 55302. 48394. 50603. 57795. 54051. 54585. 53425. 49154.\n",
      " 45354. 44968. 54683. 50544. 54390. 53593. 48981. 51974. 45679. 45059.]\n"
     ]
    }
   ],
   "source": [
    "import numpy as np\n",
    "\n",
    "# Simulation parameters\n",
    "num_sites = 100       # Number of elements in the array\n",
    "num_steps = 100000     # Number of Monte Carlo steps\n",
    "flip_prob = 0.1       # Probability of state flipping\n",
    "\n",
    "# Initialize random states (0 or 1)\n",
    "lattice = np.random.choice([0, 1], size=num_sites)\n",
    "cumulative_sum = np.zeros(num_sites)\n",
    "\n",
    "# Monte Carlo loop\n",
    "for step in range(num_steps):\n",
    "    site = np.random.randint(0, num_sites)  # Pick a random site\n",
    "    neighbor_sum = lattice[(site - 1) % num_sites] + lattice[(site + 1) % num_sites]  # Interaction with neighbors\n",
    "    \n",
    "    # Define interaction rule: favor flipping if neighbors are different\n",
    "    if np.random.rand() < flip_prob * (1 + neighbor_sum / 2):  \n",
    "        lattice[site] = 1 - lattice[site]  # Flip state (0 ↔ 1)\n",
    "    \n",
    "    # Update cumulative sum\n",
    "    cumulative_sum += lattice\n",
    "\n",
    "# Display final state\n",
    "print(\"Final lattice state:\", lattice)\n",
    "print(\"Cumulative sum:\", cumulative_sum)\n"
   ]
  }
 ],
 "metadata": {
  "kernelspec": {
   "display_name": "Python3.11 (mcb_env)",
   "language": "python",
   "name": "mcb_env"
  },
  "language_info": {
   "codemirror_mode": {
    "name": "ipython",
    "version": 3
   },
   "file_extension": ".py",
   "mimetype": "text/x-python",
   "name": "python",
   "nbconvert_exporter": "python",
   "pygments_lexer": "ipython3",
   "version": "3.11.11"
  }
 },
 "nbformat": 4,
 "nbformat_minor": 2
}
