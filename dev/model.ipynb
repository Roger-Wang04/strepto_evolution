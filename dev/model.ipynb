{
 "cells": [
  {
   "cell_type": "markdown",
   "metadata": {},
   "source": [
    "# Streptomyce antibiotics evolution\n"
   ]
  },
  {
   "cell_type": "markdown",
   "metadata": {},
   "source": [
    "## Initialization"
   ]
  },
  {
   "cell_type": "code",
   "execution_count": 1,
   "metadata": {},
   "outputs": [],
   "source": [
    "import numpy as np\n",
    "import matplotlib.pyplot as plt\n",
    "import matplotlib.patches as patches"
   ]
  },
  {
   "cell_type": "markdown",
   "metadata": {},
   "source": [
    "## Define environmental parameters"
   ]
  },
  {
   "cell_type": "code",
   "execution_count": 2,
   "metadata": {},
   "outputs": [],
   "source": [
    "def calculate_radius_vectors(radius):\n",
    "    radius_vectors = []\n",
    "    for i in range(-radius,radius+1):\n",
    "        for j in range(-radius,radius+1):\n",
    "            if i**2+j**2 <= radius**2:\n",
    "                radius_vectors.append((i,j))\n",
    "    return radius_vectors"
   ]
  },
  {
   "cell_type": "code",
   "execution_count": 3,
   "metadata": {},
   "outputs": [],
   "source": [
    "# World Parameters\n",
    "field_size = (80, 80)  # Lattice size\n",
    "# it is hard coaded in cell_replication method\n",
    "eta = 8  # Neighborhood size for replication\n",
    "tau_s = 800  # Growth cycle duration\n",
    "xi = 0.001  # Fraction of spores to seed a growth cycle\n",
    "\n",
    "# Replication Parameters\n",
    "alpha_g = 0.1  # Max replication probability per unit time\n",
    "h_g = 10  # No. of growth genes for 1/2 max growth rate\n",
    "beta_r = 0.3  # Antibiotic resistance factor\n",
    "mu_d = 0.001  # Duplication/deletion probability per gene\n",
    "mu_f = 0.01  # Fragile site‐induced deletion probability (per fragile site)\n",
    "mu_n = 0.01  # Probability of new fragile site formation per genome\n",
    "mu_a = 0.005  # Probability of antibiotic-type mutation (per antibiotic gene)\n",
    "\n",
    "# Antibiotic Production Parameters\n",
    "alpha_a = 1  # Max antibiotic production probability per unit time\n",
    "h_a = 3  # No. of antibiotic genes for 1/2 max production rate\n",
    "r_a = 3  # Max distance of antibiotic placement\n",
    "vec_r_a = calculate_radius_vectors(r_a)  # Vectors for antibiotic placement\n",
    "beta_g = 1  # Antibiotic production decrease due to trade-off\n",
    "mu = 16  # Length of antibiotic bit-string\n",
    "\n",
    "# Other Parameters\n",
    "p_mov = 0.01  # Probability of migration into an empty adjacent site"
   ]
  },
  {
   "cell_type": "markdown",
   "metadata": {},
   "source": [
    "## Method to initialize genome\n",
    "genome structure:\n",
    "\n",
    "- genes:\n",
    "    - A: ABR\n",
    "    - G: Growth\n",
    "    - F: Fragile\n",
    "- Locus allele\n",
    "    - Array with size = no. A whithin genome\n",
    "    - the order on genome correspond to the order in the array\n",
    "- "
   ]
  },
  {
   "cell_type": "code",
   "execution_count": 4,
   "metadata": {},
   "outputs": [],
   "source": [
    "class AntibioticsGene:\n",
    "    \"\"\"\n",
    "    The antibiotics type is a 16 bit number\n",
    "    - 0x0000: No antibiotics\n",
    "    \"\"\"\n",
    "    \n",
    "    def __init__(self, antibiotics_type = 0x0000, gen_random = False):\n",
    "        if gen_random:\n",
    "            self.generate_random_antibiotics()\n",
    "        else:\n",
    "            self.antibiotics_type = antibiotics_type\n",
    "    \n",
    "    def generate_random_antibiotics(self):\n",
    "        self.antibiotics_type = np.random.randint(0, 2**16)\n",
    "\n",
    "    def get_antibiotics(self):\n",
    "        return self.antibiotics_type\n",
    "    \n",
    "    def set_antibiotics(self, antibiotics_type):\n",
    "        self.antibiotics_type = antibiotics_type\n",
    "    \n",
    "    def uniform_mutate(self):\n",
    "        \"\"\"\n",
    "        Uniform mutation\n",
    "        Each bit has a 50% chance of being flipped by the random mutation\n",
    "        \"\"\"\n",
    "        mutation = np.random.randint(0, 2**16)\n",
    "        self.antibiotics_type = self.antibiotics_type ^ mutation\n",
    "    \n",
    "    def normal_mutate(self):\n",
    "        \"\"\"\n",
    "        Normal mutation\n",
    "        No of bit flipped is a random number from a normal distribution\n",
    "        \"\"\"\n",
    "        pass\n",
    "\n",
    "    "
   ]
  },
  {
   "cell_type": "code",
   "execution_count": 5,
   "metadata": {},
   "outputs": [],
   "source": [
    "class BacteriaCell:\n",
    "    \"\"\"\n",
    "    Define the bacterial cell genome and antibiotics production\n",
    "    - genes:\n",
    "    - A: ABR\n",
    "    - G: Growth\n",
    "    - F: Fragile\n",
    "    - Locus allele\n",
    "        - Array with size = no. A whithin genome\n",
    "        - the order on genome correspond to the order in the array\n",
    "    \"\"\"\n",
    "    genome = []\n",
    "    antibiotics = []\n",
    "    id = 0\n",
    "    ancestors = []\n",
    "    location = (0,0)\n",
    "\n",
    "\n",
    "    def __init__(self,location,ancestors = [],gen_random = False, genome_size = 20):\n",
    "        self.genome = []\n",
    "        self.antibiotics = []\n",
    "        self.location = location\n",
    "        if gen_random:\n",
    "            self.genome, self.antibiotics = self.generate_random_genome(genome_size)\n",
    "        else:\n",
    "            pass   \n",
    "\n",
    "        self.id = np.random.randint(0, 0xFFFFFF)  # Generate random hex number up to 24 bits\n",
    "        self.ancestors = ancestors.copy()\n",
    "        self.ancestors.append(self.id) # add the ancestral history for further analysis\n",
    "\n",
    "    def generate_random_genome(self, genome_size):\n",
    "        self.genome = np.random.choice(['A', 'G', 'F'], genome_size, p=[0.5, 0.4, 0.1]) # ABR, Growth, Fragile, adjust individual generation frequencies here\n",
    "        self.antibiotics = []\n",
    "        for gene in self.genome:\n",
    "            if gene == 'A':\n",
    "                self.antibiotics.append(AntibioticsGene(gen_random=True))\n",
    "\n",
    "        return self.genome, self.antibiotics\n",
    "    \n",
    "    def born_cell(self, location):\n",
    "        cell = BacteriaCell(location, self.ancestors)\n",
    "        cell.genome = self.genome.copy()\n",
    "        cell.antibiotics = self.antibiotics.copy()\n",
    "        return cell\n",
    "    \n",
    "    def get_id(self):\n",
    "        return self.id\n",
    "    \n",
    "    def get_location(self):\n",
    "        return self.location\n",
    "\n",
    "    def get_genome(self):\n",
    "        return self.genome\n",
    "\n",
    "    def get_ABR(self):\n",
    "        ABR = []\n",
    "        for gene in self.antibiotics:\n",
    "            ABR = np.append(ABR, gene.get_antibiotics())\n",
    "        return ABR\n",
    "    \n",
    "    def get_growth(self):\n",
    "        return self.genome.count('G')\n",
    "\n",
    "    def get_ancestors(self):\n",
    "        return self.ancestors\n",
    "    \n",
    "    def count_genes(self, gene):\n",
    "        return np.count_nonzero(self.genome == gene)\n",
    "\n",
    "    "
   ]
  },
  {
   "cell_type": "code",
   "execution_count": 6,
   "metadata": {},
   "outputs": [],
   "source": [
    "def generate_random_field(field_size, n_cells):\n",
    "    \"\"\"\n",
    "    Generate random initiation population\n",
    "    cells randomly dispersed on the field\n",
    "    each cell have a different id\n",
    "    \"\"\"\n",
    "    genome_field = np.empty(field_size, dtype=object)\n",
    "    antibiotics_field = np.empty(field_size, dtype=object)\n",
    "    for _ in range(n_cells):\n",
    "        # Generate random positions\n",
    "        populate = True\n",
    "        while populate:\n",
    "            i = np.random.randint(0, genome_field.shape[0])\n",
    "            j = np.random.randint(0, genome_field.shape[1])\n",
    "            if genome_field[i,j] is None:\n",
    "                populate = False\n",
    "        \n",
    "        # Create a new cell at random position\n",
    "        genome_field[i,j] = BacteriaCell(location=(i,j),ancestors=[np.random.randint(0, 0xFFFFFF)], gen_random=True)\n",
    "        antibiotics_field[i,j] = np.append(antibiotics_field[i,j],genome_field[i,j].get_ABR())\n",
    "\n",
    "    return genome_field, antibiotics_field"
   ]
  },
  {
   "cell_type": "code",
   "execution_count": 7,
   "metadata": {},
   "outputs": [],
   "source": [
    "def plot_genome_field(field, ax):\n",
    "    figure = np.zeros(field.shape)\n",
    "    for i in range(figure.shape[0]):\n",
    "        for j in range(figure.shape[1]):\n",
    "            try:\n",
    "                figure[i,j] = field[i,j].get_ancestors()[-1]\n",
    "            except:\n",
    "                figure[i,j] = 0\n",
    "\n",
    "    # ax.set_cmap('gist_ncar')  # A colorful map where 0 is black and other values are vivid\n",
    "    ax.imshow(figure, cmap='gist_ncar')\n",
    "    # ax.colorbar()\n",
    "    ax.set_title('Genome field')\n",
    "\n",
    "    ax.tick_params(axis='both', which='both', length=0, labelbottom=False, labelleft=False)\n",
    "    "
   ]
  },
  {
   "cell_type": "code",
   "execution_count": 8,
   "metadata": {},
   "outputs": [],
   "source": [
    "def plot_antibiotics_field(field, ax):\n",
    "    figure = np.zeros(field.shape)\n",
    "    for i in range(figure.shape[0]):\n",
    "        for j in range(figure.shape[1]):\n",
    "            try:\n",
    "                figure[i,j] = len(set(field[i,j]))\n",
    "            except:\n",
    "                figure[i,j] = 0\n",
    "            \n",
    "    # ax.set_cmap('viridis')  # A colorful map where 0 is black and other values are vivid\n",
    "    im = ax.imshow(figure, cmap='viridis')\n",
    "    plt.colorbar(im, ax=ax)\n",
    "    ax.set_title('Antibiotics field')\n",
    "    ax.tick_params(axis='both', which='both', length=0, labelbottom=False, labelleft=False)"
   ]
  },
  {
   "cell_type": "code",
   "execution_count": 9,
   "metadata": {},
   "outputs": [],
   "source": [
    "def plot_ancestral_field(field,ax):\n",
    "    figure = np.zeros(field.shape)\n",
    "    for i in range(figure.shape[0]):\n",
    "        for j in range(figure.shape[1]):\n",
    "            try:\n",
    "                figure[i,j] = field[i,j].get_ancestors()[0]\n",
    "            except:\n",
    "                figure[i,j] = 0\n",
    "\n",
    "    # ax.set_cmap('gist_ncar')  # A colorful map where 0 is black and other values are vivid\n",
    "    ax.imshow(figure, cmap='gist_ncar')\n",
    "    ax.set_title('Ancestor field')\n",
    "    ax.tick_params(axis='both', which='both', length=0, labelbottom=False, labelleft=False)\n"
   ]
  },
  {
   "cell_type": "code",
   "execution_count": 10,
   "metadata": {},
   "outputs": [],
   "source": [
    "def count_cells(field):\n",
    "    count = 0\n",
    "    for i in range(field.shape[0]):\n",
    "        for j in range(field.shape[1]):\n",
    "            if field[i,j] is not None:\n",
    "                count += 1\n",
    "    return count"
   ]
  },
  {
   "cell_type": "code",
   "execution_count": 11,
   "metadata": {},
   "outputs": [],
   "source": [
    "def show_population(genome_field,antibiotics_field):\n",
    "    fig, axs = plt.subplots(1, 2, figsize=(15, 5))\n",
    "    print(f\"Total NO. of Cells in System is {count_cells(genome_field)}\")\n",
    "    plot_ancestral_field(genome_field, axs[0])\n",
    "    plot_antibiotics_field(antibiotics_field, axs[1])\n",
    "    plt.show()"
   ]
  },
  {
   "cell_type": "code",
   "execution_count": 12,
   "metadata": {},
   "outputs": [
    {
     "name": "stdout",
     "output_type": "stream",
     "text": [
      "Total NO. of Cells in System is 20\n"
     ]
    },
    {
     "data": {
      "image/png": "[encoded data removed]",
      "text/plain": [
       "<Figure size 1500x500 with 3 Axes>"
      ]
     },
     "metadata": {},
     "output_type": "display_data"
    }
   ],
   "source": [
    "genome_field,antibiotics_field = generate_random_field(field_size=field_size, n_cells=20)\n",
    "show_population(genome_field,antibiotics_field)"
   ]
  },
  {
   "cell_type": "markdown",
   "metadata": {},
   "source": [
    "## Cell behaviours\n"
   ]
  },
  {
   "cell_type": "code",
   "execution_count": 13,
   "metadata": {},
   "outputs": [],
   "source": [
    "def cell_copy(genome_field,antibiotics_field, cell, new_location):\n",
    "    # These functions directly act on genome field and antibiotics field\n",
    "    # Copy one cell to a new location, retain anscestorial history\n",
    "    new_cell = cell.born_cell(new_location)\n",
    "    nx = new_location[0]\n",
    "    ny = new_location[1]\n",
    "    genome_field[nx,ny] = new_cell\n",
    "    antibiotics_field[nx,ny] = np.append(antibiotics_field[nx,ny],new_cell.get_ABR())\n",
    "    \n",
    "    return genome_field, antibiotics_field\n",
    "\n",
    "def cell_replication(genome_field,antibiotics_field, cell):\n",
    "    # These functions directly act on genome field and antibiotics field\n",
    "    # Replicate a cell to a neighbouring location\n",
    "    neighbourhood_vectors = [(0,1),(0,-1),(1,0),(-1,0),(1,1),(1,-1),(-1,1),(-1,-1)]\n",
    "    nx = cell.get_location()[0]\n",
    "    ny = cell.get_location()[1]\n",
    "    np.random.shuffle(neighbourhood_vectors)\n",
    "    for v in neighbourhood_vectors:\n",
    "        dx = v[0]\n",
    "        dy = v[1]\n",
    "        if nx+dx >= 0 and nx+dx < genome_field.shape[0] and ny+dy >= 0 and ny+dy < genome_field.shape[1]:\n",
    "            if genome_field[nx+dx,ny+dy] is None:\n",
    "                genome_field, antibiotics_field = cell_copy(genome_field,antibiotics_field, cell, (nx+dx,ny+dy))\n",
    "                break\n",
    "    \n",
    "    return genome_field, antibiotics_field\n",
    "\n",
    "        \n",
    "def cell_death(genome_field,antibiotics_field, cell, location):\n",
    "    # These functions directly act on genome field and antibiotics field\n",
    "    # Kill\n",
    "    genome_field[location[0],location[1]] = None\n",
    "\n",
    "    return genome_field, antibiotics_field\n",
    "\n",
    "def cell_move(genome_field,antibiotics_field, cell, new_location):\n",
    "    # These functions directly act on genome field and antibiotics field\n",
    "    # Move to a new location\n",
    "    nx = new_location[0]\n",
    "    ny = new_location[1]\n",
    "    genome_field[nx,ny] = cell\n",
    "    antibiotics_field[nx,ny] = np.append(antibiotics_field[nx,ny],cell.get_ABR())\n",
    "    genome_field[cell.get_location()[0],cell.get_location()[1]] = None\n",
    "\n",
    "    return genome_field, antibiotics_field"
   ]
  },
  {
   "cell_type": "code",
   "execution_count": 14,
   "metadata": {},
   "outputs": [],
   "source": [
    "def is_cell_move(genome_field, location):\n",
    "    if genome_field[location[0],location[1]] is None:\n",
    "        return True\n",
    "    else:\n",
    "        return False\n",
    "    \n",
    "def is_cell_death(genome_field, location):\n",
    "    if genome_field[location[0],location[1]] is not None:\n",
    "        return True\n",
    "    else:\n",
    "        return False\n",
    "    \n"
   ]
  },
  {
   "cell_type": "code",
   "execution_count": 15,
   "metadata": {},
   "outputs": [],
   "source": [
    "def calculate_radius_vectors(radius):\n",
    "    radius_vectors = []\n",
    "    for i in range(-radius,radius+1):\n",
    "        for j in range(-radius,radius+1):\n",
    "            if i**2+j**2 <= radius**2:\n",
    "                radius_vectors.append((i,j))\n",
    "    return radius_vectors\n",
    "\n",
    "def antibiotics_secretion(genome_field,antibiotics_field, cell, radius_vectors):\n",
    "    nx = cell.get_location()[0]\n",
    "    ny = cell.get_location()[1]\n",
    "\n",
    "    for vec in radius_vectors:\n",
    "        dx = vec[0]\n",
    "        dy = vec[1]\n",
    "        if dx == 0 and dy == 0:\n",
    "            continue\n",
    "        if nx+dx >= 0 and nx+dx < genome_field.shape[0] and ny+dy >= 0 and ny+dy < genome_field.shape[1]:\n",
    "            antibiotics_field[nx+dx,ny+dy] = np.append(antibiotics_field[nx+dx,ny+dy],cell.get_ABR())\n",
    "\n",
    "    \n",
    "    return genome_field, antibiotics_field"
   ]
  },
  {
   "cell_type": "code",
   "execution_count": 16,
   "metadata": {},
   "outputs": [],
   "source": [
    "def select_random_cell(genome_field):\n",
    "    # Select a random cell from the field\n",
    "    populate = True\n",
    "    while populate:\n",
    "        i = np.random.randint(0, genome_field.shape[0])\n",
    "        j = np.random.randint(0, genome_field.shape[1])\n",
    "        if genome_field[i,j] is not None:\n",
    "            populate = False\n",
    "    \n",
    "    return (i,j), genome_field[i,j]\n",
    "\n",
    "def get_all_cells(genome_field):\n",
    "    cells = []\n",
    "    for i in range(genome_field.shape[0]):\n",
    "        for j in range(genome_field.shape[1]):\n",
    "            if genome_field[i,j] is not None:\n",
    "                cells.append(genome_field[i,j])\n",
    "    return cells"
   ]
  },
  {
   "cell_type": "code",
   "execution_count": 17,
   "metadata": {},
   "outputs": [
    {
     "name": "stdout",
     "output_type": "stream",
     "text": [
      "Total NO. of Cells in System is 10\n"
     ]
    },
    {
     "data": {
      "image/png": "[encoded data removed]",
      "text/plain": [
       "<Figure size 1500x500 with 3 Axes>"
      ]
     },
     "metadata": {},
     "output_type": "display_data"
    },
    {
     "name": "stdout",
     "output_type": "stream",
     "text": [
      "Total NO. of Cells in System is 10\n"
     ]
    },
    {
     "data": {
      "image/png": "[encoded data removed]",
      "text/plain": [
       "<Figure size 1500x500 with 3 Axes>"
      ]
     },
     "metadata": {},
     "output_type": "display_data"
    }
   ],
   "source": [
    "# Test antibiotic secretion\n",
    "r_a = 2\n",
    "r_2 = calculate_radius_vectors(r_a)\n",
    "\n",
    "genome_field,antibiotics_field = generate_random_field(field_size=field_size, n_cells=10)\n",
    "show_population(genome_field,antibiotics_field)\n",
    "cells = get_all_cells(genome_field)\n",
    "for cell in cells:\n",
    "    genome_field,antibiotics_field = antibiotics_secretion(genome_field,antibiotics_field, cell, r_2)\n",
    "\n",
    "show_population(genome_field,antibiotics_field)\n"
   ]
  },
  {
   "cell_type": "code",
   "execution_count": 18,
   "metadata": {},
   "outputs": [
    {
     "name": "stdout",
     "output_type": "stream",
     "text": [
      "Total NO. of Cells in System is 20\n"
     ]
    },
    {
     "data": {
      "image/png": "[encoded data removed]",
      "text/plain": [
       "<Figure size 1500x500 with 3 Axes>"
      ]
     },
     "metadata": {},
     "output_type": "display_data"
    },
    {
     "name": "stdout",
     "output_type": "stream",
     "text": [
      "Total NO. of Cells in System is 1254\n"
     ]
    },
    {
     "data": {
      "image/png": "[encoded data removed]",
      "text/plain": [
       "<Figure size 1500x500 with 3 Axes>"
      ]
     },
     "metadata": {},
     "output_type": "display_data"
    }
   ],
   "source": [
    "# Test the cell replication\n",
    "genome_field,antibiotics_field = generate_random_field(field_size=field_size, n_cells=20)\n",
    "show_population(genome_field,antibiotics_field)\n",
    "\n",
    "for _ in range(2000):\n",
    "    coordinate,cell = select_random_cell(genome_field)\n",
    "    genome_field, antibiotics_field = cell_replication(genome_field,antibiotics_field, cell)\n",
    "\n",
    "cells = get_all_cells(genome_field)\n",
    "for cell in cells:\n",
    "    genome_field,antibiotics_field = antibiotics_secretion(genome_field,antibiotics_field, cell, vec_r_a)\n",
    "\n",
    "show_population(genome_field,antibiotics_field)"
   ]
  },
  {
   "cell_type": "markdown",
   "metadata": {},
   "source": [
    "## Genome Behavior"
   ]
  },
  {
   "cell_type": "code",
   "execution_count": 19,
   "metadata": {},
   "outputs": [],
   "source": [
    "def gene_duplication(cell,gene_locus, p_left = 0.5):\n",
    "    # Duplicate a gene in the genome\n",
    "    # The gene will replicate itself at the same locus, either to its left or to its right\n",
    "    # The paper suggest there should be a random_insertion\n",
    "    insertion_site = np.random.randint(0,len(cell.genome))\n",
    "    \n",
    "    cell.genome = np.insert(cell.genome, insertion_site, cell.genome[gene_locus])\n",
    "    if cell.genome[gene_locus] == 'A':\n",
    "        i = np.count_nonzero(cell.genome[:insertion_site] == 'A')\n",
    "        cell.antibiotics = np.insert(cell.antibiotics, i, cell.antibiotics[i])\n",
    "\n",
    "                    \n",
    "    \n",
    "    return cell\n",
    "\n",
    "def gene_deletion(cell,gene_locus):\n",
    "    # Delete a gene in the genome\n",
    "    # The gene will be deleted from the genome, and the corresponding antibiotics gene will also be deleted\n",
    "    if cell.genome[gene_locus] == 'A':\n",
    "\n",
    "        i = np.count_nonzero(cell.genome[:gene_locus] == 'A')\n",
    "        cell.antibiotics = np.delete(cell.antibiotics, i)\n",
    "\n",
    "    cell.genome = np.delete(cell.genome, gene_locus)\n",
    "    \n",
    "    return cell\n",
    "\n",
    "\n",
    "\n",
    "def fragile_deletion(cell,gene_locus):\n",
    "    # Delete a fragile gene in the genome\n",
    "    # The fragile gene and all genes after it will be deleted from the genome\n",
    "    if cell.genome[gene_locus] == 'F':\n",
    "        # Get indices to delete\n",
    "        cell.genome = cell.genome[:gene_locus]\n",
    "        # Count antibiotics genes before fragile site\n",
    "        antibiotics_before = np.count_nonzero(cell.genome[:gene_locus] == 'A')\n",
    "        # Delete all antibiotics after this point\n",
    "        if len(cell.antibiotics) > antibiotics_before:\n",
    "            cell.antibiotics = cell.antibiotics[:antibiotics_before]\n",
    "    \n",
    "    return cell\n",
    "\n",
    "def fragile_generation(cell):\n",
    "    # Generate a fragile gene in the genome\n",
    "    # The fragile gene will be inserted at a random location in the genome\n",
    "    gene_locus = np.random.randint(0, len(cell.genome))\n",
    "    cell.genome = np.insert(cell.genome, gene_locus, 'F')\n",
    "    return cell\n",
    "\n",
    "def antibiotics_mutation(cell):\n",
    "    # Mutate the antibiotics gene in the genome\n",
    "    # The antibiotics gene will be mutated by a random mutation\n",
    "    while True:\n",
    "        gene_locus = np.random.randint(0, len(cell.genome))\n",
    "        if cell.genome[gene_locus] == 'A':\n",
    "            break\n",
    "    i = np.count_nonzero(cell.genome[:gene_locus] == 'A')\n",
    "    cell.antibiotics[i].uniform_mutate()\n",
    "    return cell\n",
    "\n"
   ]
  },
  {
   "cell_type": "code",
   "execution_count": 20,
   "metadata": {},
   "outputs": [
    {
     "name": "stdout",
     "output_type": "stream",
     "text": [
      "['G' 'A' 'A' 'F' 'G']\n",
      "2\n",
      "[ 3268. 24100.]\n"
     ]
    }
   ],
   "source": [
    "cell1 = BacteriaCell(location=(0,0),ancestors=[np.random.randint(0, 0xFFFFFF)], gen_random=True, genome_size=5)\n",
    "print(cell1.genome)\n",
    "print(len(cell1.antibiotics))\n",
    "print(cell1.get_ABR())\n",
    "\n"
   ]
  },
  {
   "cell_type": "code",
   "execution_count": 21,
   "metadata": {},
   "outputs": [
    {
     "name": "stdout",
     "output_type": "stream",
     "text": [
      "2\n",
      "2\n",
      "1\n"
     ]
    }
   ],
   "source": [
    "print(cell1.count_genes('A'))\n",
    "print(cell1.count_genes('G'))\n",
    "print(cell1.count_genes('F'))"
   ]
  },
  {
   "cell_type": "code",
   "execution_count": 22,
   "metadata": {},
   "outputs": [
    {
     "name": "stdout",
     "output_type": "stream",
     "text": [
      "['G' 'A' 'A' 'A' 'F' 'G']\n",
      "3\n",
      "[ 3268. 24100. 24100.]\n"
     ]
    }
   ],
   "source": [
    "cell1 = gene_duplication(cell1, 1)\n",
    "print(cell1.genome)\n",
    "print(len(cell1.antibiotics))\n",
    "print(cell1.get_ABR())"
   ]
  },
  {
   "cell_type": "code",
   "execution_count": 23,
   "metadata": {},
   "outputs": [
    {
     "name": "stdout",
     "output_type": "stream",
     "text": [
      "['G' 'A' 'A' 'F' 'G']\n",
      "2\n",
      "[24100. 24100.]\n"
     ]
    }
   ],
   "source": [
    "cell1 = gene_deletion(cell1, 1)\n",
    "print(cell1.genome)\n",
    "print(len(cell1.antibiotics))\n",
    "print(cell1.get_ABR())"
   ]
  },
  {
   "cell_type": "code",
   "execution_count": 24,
   "metadata": {},
   "outputs": [
    {
     "name": "stdout",
     "output_type": "stream",
     "text": [
      "['G' 'F' 'A' 'A' 'F' 'G']\n",
      "2\n",
      "[24100. 24100.]\n"
     ]
    }
   ],
   "source": [
    "cell1 = fragile_generation(cell1)\n",
    "print(cell1.genome)\n",
    "print(len(cell1.antibiotics))\n",
    "print(cell1.get_ABR())"
   ]
  },
  {
   "cell_type": "code",
   "execution_count": 25,
   "metadata": {},
   "outputs": [
    {
     "name": "stdout",
     "output_type": "stream",
     "text": [
      "['G' 'F' 'A' 'A' 'F' 'G']\n",
      "2\n",
      "[47206. 47206.]\n"
     ]
    }
   ],
   "source": [
    "cell1 = antibiotics_mutation(cell1)\n",
    "print(cell1.genome)\n",
    "print(len(cell1.antibiotics))\n",
    "print(cell1.get_ABR())"
   ]
  },
  {
   "cell_type": "code",
   "execution_count": 26,
   "metadata": {},
   "outputs": [
    {
     "name": "stdout",
     "output_type": "stream",
     "text": [
      "['G']\n",
      "0\n",
      "[]\n"
     ]
    }
   ],
   "source": [
    "cell1 = fragile_deletion(cell1, 1)\n",
    "print(cell1.genome)\n",
    "print(len(cell1.antibiotics))\n",
    "print(cell1.get_ABR())"
   ]
  },
  {
   "cell_type": "markdown",
   "metadata": {},
   "source": [
    "## Probability calculation"
   ]
  },
  {
   "cell_type": "code",
   "execution_count": 27,
   "metadata": {},
   "outputs": [],
   "source": [
    "def genome_mutation(cell):\n",
    "    # Mutate the genome of a cell\n",
    "    # \n",
    "    n_A = cell.count_genes('A')\n",
    "    n_G = cell.count_genes('G')\n",
    "    n_F = cell.count_genes('F')\n",
    "    n_genes = len(cell.genome)\n",
    "    # Duplication and deletion\n",
    "    for i in range(n_genes):\n",
    "        if cell.genome[i] == 'A':\n",
    "            if np.random.rand() < mu_a:\n",
    "                cell = antibiotics_mutation(cell)\n",
    "        if np.random.rand() < mu_d:\n",
    "            cell = gene_duplication(cell, i)\n",
    "        if np.random.rand() < mu_d:\n",
    "            cell = gene_deletion(cell, i)\n",
    "        if np.random.rand() < mu_f:\n",
    "            cell = fragile_deletion(cell, i)\n",
    "\n",
    "    # Fragile site generation\n",
    "    if np.random.rand() < mu_n:\n",
    "        cell = fragile_generation(cell)\n"
   ]
  }
 ],
 "metadata": {
  "kernelspec": {
   "display_name": "Python3.11 (mcb_env)",
   "language": "python",
   "name": "mcb_env"
  },
  "language_info": {
   "codemirror_mode": {
    "name": "ipython",
    "version": 3
   },
   "file_extension": ".py",
   "mimetype": "text/x-python",
   "name": "python",
   "nbconvert_exporter": "python",
   "pygments_lexer": "ipython3",
   "version": "3.11.11"
  }
 },
 "nbformat": 4,
 "nbformat_minor": 2
}
