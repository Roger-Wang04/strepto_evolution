{
 "cells": [
  {
   "cell_type": "markdown",
   "metadata": {},
   "source": [
    "# Streptomyce antibiotics evolution\n"
   ]
  },
  {
   "cell_type": "markdown",
   "metadata": {},
   "source": [
    "## Initialization"
   ]
  },
  {
   "cell_type": "code",
   "execution_count": 6,
   "metadata": {},
   "outputs": [],
   "source": [
    "import numpy as np\n",
    "import matplotlib.pyplot as plt\n",
    "import matplotlib.patches as patches"
   ]
  },
  {
   "cell_type": "markdown",
   "metadata": {},
   "source": [
    "## Define environmental parameters"
   ]
  },
  {
   "cell_type": "code",
   "execution_count": 7,
   "metadata": {},
   "outputs": [],
   "source": [
    "def calculate_radius_vectors(radius):\n",
    "    radius_vectors = []\n",
    "    for i in range(-radius,radius+1):\n",
    "        for j in range(-radius,radius+1):\n",
    "            if i**2+j**2 <= radius**2:\n",
    "                radius_vectors.append((i,j))\n",
    "    return radius_vectors"
   ]
  },
  {
   "cell_type": "code",
   "execution_count": 8,
   "metadata": {},
   "outputs": [],
   "source": [
    "# World Parameters\n",
    "field_size = (80, 80)  # Lattice size\n",
    "# it is hard coaded in cell_replication method\n",
    "eta = 8  # Neighborhood size for replication\n",
    "tau_s = 800  # Growth cycle duration\n",
    "xi = 0.001  # Fraction of spores to seed a growth cycle\n",
    "\n",
    "# Replication Parameters\n",
    "alpha_g = 0.1  # Max replication probability per unit time\n",
    "h_g = 10  # No. of growth genes for 1/2 max growth rate\n",
    "beta_r = 0.3  # Antibiotic resistance factor\n",
    "mu_d = 0.001  # Duplication/deletion probability per gene\n",
    "mu_f = 0.01  # Fragile site‐induced deletion probability (per fragile site)\n",
    "mu_n = 0.01  # Probability of new fragile site formation per genome\n",
    "mu_a = 0.005  # Probability of antibiotic-type mutation (per antibiotic gene)\n",
    "\n",
    "# Antibiotic Production Parameters\n",
    "alpha_a = 1  # Max antibiotic production probability per unit time\n",
    "h_a = 3  # No. of antibiotic genes for 1/2 max production rate\n",
    "r_a = 3  # Max distance of antibiotic placement\n",
    "vec_r_a = calculate_radius_vectors(r_a)  # Vectors for antibiotic placement\n",
    "beta_g = 1  # Antibiotic production decrease due to trade-off\n",
    "mu = 16  # Length of antibiotic bit-string\n",
    "\n",
    "# Other Parameters\n",
    "p_mov = 0.01  # Probability of migration into an empty adjacent site"
   ]
  },
  {
   "cell_type": "markdown",
   "metadata": {},
   "source": [
    "## Method to initialize genome\n",
    "genome structure:\n",
    "\n",
    "- genes:\n",
    "    - A: ABR\n",
    "    - G: Growth\n",
    "    - F: Fragile\n",
    "- Locus allele\n",
    "    - Array with size = no. A whithin genome\n",
    "    - the order on genome correspond to the order in the array\n",
    "- "
   ]
  },
  {
   "cell_type": "code",
   "execution_count": 9,
   "metadata": {},
   "outputs": [],
   "source": [
    "class AntibioticsGene:\n",
    "    \"\"\"\n",
    "    The antibiotics type is a 16 bit number\n",
    "    - 0x0000: No antibiotics\n",
    "    \"\"\"\n",
    "\n",
    "    \n",
    "    def __init__(self, antibiotics_type = 0x0000, gen_random = False):\n",
    "        if gen_random:\n",
    "            self.generate_random_antibiotics()\n",
    "        else:\n",
    "            self.antibiotics_type = antibiotics_type\n",
    "    \n",
    "    def generate_random_antibiotics(self):\n",
    "        self.antibiotics_type = np.random.randint(0, 2**16)\n",
    "\n",
    "    def get_antibiotics(self):\n",
    "        return self.antibiotics_type\n",
    "    \n",
    "    def set_antibiotics(self, antibiotics_type):\n",
    "        self.antibiotics_type = antibiotics_type\n",
    "    \n",
    "    def uniform_mutate(self):\n",
    "        \"\"\"\n",
    "        Uniform mutation\n",
    "        Each bit has a 50% chance of being flipped by the random mutation\n",
    "        \"\"\"\n",
    "        mutation = np.random.randint(0, 2**16)\n",
    "        self.antibiotics_type = self.antibiotics_type ^ mutation\n",
    "    \n",
    "    def flip_bit(num: int, bit_position: int) -> int:\n",
    "        return num ^ (1 << bit_position)\n",
    "\n",
    "    def normal_mutate(self):\n",
    "        \"\"\"\n",
    "        Normal mutation\n",
    "        No of bit flipped is a random number from a normal distribution\n",
    "        \"\"\"\n",
    "        # per bit mutation rate\n",
    "\n",
    "        # different masks\n",
    "        # select random number of masks and apply to flip bits\n",
    "    \n",
    "        n_mutation = np.random.normal(8, 4)\n",
    "        n_mutation = int(n_mutation)\n",
    "        if n_mutation < 0:\n",
    "            n_mutation = 0\n",
    "        if n_mutation > 16:\n",
    "            n_mutation = 16\n",
    "        for i in range(n_mutation):\n",
    "            bit_position = np.random.randint(0, 16)\n",
    "            self.antibiotics_type = AntibioticsGene.flip_bit(self.antibiotics_type, bit_position)\n",
    "        \n",
    "        return n_mutation\n",
    "        \n",
    "        \n",
    "\n",
    "    "
   ]
  },
  {
   "cell_type": "code",
   "execution_count": 10,
   "metadata": {},
   "outputs": [],
   "source": [
    "class BacteriaCell:\n",
    "    \"\"\"\n",
    "    Define the bacterial cell genome and antibiotics production\n",
    "    - genes:\n",
    "    - A: ABR\n",
    "    - G: Growth\n",
    "    - F: Fragile\n",
    "    - Locus allele\n",
    "        - Array with size = no. A whithin genome\n",
    "        - the order on genome correspond to the order in the array\n",
    "    \"\"\"\n",
    "    genome = []\n",
    "    antibiotics = []\n",
    "    id = 0\n",
    "    ancestors = []\n",
    "    location = (0,0)\n",
    "\n",
    "\n",
    "    def __init__(self,location,ancestors = [],gen_random = False, genome_size = 20, genome = None):\n",
    "        self.genome = []\n",
    "        self.antibiotics = []\n",
    "        self.location = location\n",
    "        if gen_random:\n",
    "            self.genome, self.antibiotics = self.generate_random_genome(genome_size)\n",
    "        else:\n",
    "            self.genome = np.array(genome)\n",
    "            for gene in self.genome:\n",
    "                if gene == 'A':\n",
    "                    self.antibiotics.append(AntibioticsGene(gen_random=True))\n",
    "\n",
    "        self.id = np.random.randint(0, 0xFFFFFF)  # Generate random hex number up to 24 bits\n",
    "        self.ancestors = ancestors.copy()\n",
    "        self.ancestors.append(self.id) # add the ancestral history for further analysis\n",
    "\n",
    "    def generate_random_genome(self, genome_size):\n",
    "        self.genome = np.random.choice(['A', 'G', 'F'], genome_size, p=[0.5, 0.4, 0.1]) # ABR, Growth, Fragile, adjust individual generation frequencies here\n",
    "        self.antibiotics = []\n",
    "        for gene in self.genome:\n",
    "            if gene == 'A':\n",
    "                self.antibiotics.append(AntibioticsGene(gen_random=True))\n",
    "\n",
    "        return self.genome, self.antibiotics\n",
    "    \n",
    "    def born_cell(self, location):\n",
    "        cell = BacteriaCell(location, self.ancestors, genome=self.genome)\n",
    "        cell.genome = self.genome.copy()\n",
    "        cell.antibiotics = self.antibiotics.copy()\n",
    "        return cell\n",
    "    \n",
    "    def get_id(self):\n",
    "        return self.id\n",
    "    \n",
    "    def get_location(self):\n",
    "        return self.location\n",
    "\n",
    "    def get_genome(self):\n",
    "        return self.genome\n",
    "\n",
    "    def get_ABR(self):\n",
    "        ABR = []\n",
    "        for gene in self.antibiotics:\n",
    "            ABR = np.append(ABR, gene.get_antibiotics())\n",
    "        return ABR\n",
    "    \n",
    "    def get_growth(self):\n",
    "        return self.genome.count('G')\n",
    "\n",
    "    def get_ancestors(self):\n",
    "        return self.ancestors\n",
    "    \n",
    "    def count_genes(self, gene):\n",
    "        return np.count_nonzero(self.genome == gene)\n",
    "\n",
    "    "
   ]
  },
  {
   "cell_type": "code",
   "execution_count": 11,
   "metadata": {},
   "outputs": [],
   "source": [
    "def generate_random_field(field_size, n_cells):\n",
    "    \"\"\"\n",
    "    Generate random initiation population\n",
    "    cells randomly dispersed on the field\n",
    "    each cell have a different id\n",
    "    \"\"\"\n",
    "    genome_field = np.empty(field_size, dtype=object)\n",
    "    antibiotics_field = np.empty(field_size, dtype=object)\n",
    "    for _ in range(n_cells):\n",
    "        # Generate random positions\n",
    "        populate = True\n",
    "        while populate:\n",
    "            i = np.random.randint(0, genome_field.shape[0])\n",
    "            j = np.random.randint(0, genome_field.shape[1])\n",
    "            if genome_field[i,j] is None:\n",
    "                populate = False\n",
    "        \n",
    "        # Create a new cell at random position\n",
    "        genome_field[i,j] = BacteriaCell(location=(i,j),ancestors=[np.random.randint(0, 0xFFFFFF)], gen_random=True)\n",
    "        # antibiotics_field[i,j] = np.append(antibiotics_field[i,j],genome_field[i,j].get_ABR())\n",
    "\n",
    "    return genome_field, antibiotics_field"
   ]
  },
  {
   "cell_type": "code",
   "execution_count": 12,
   "metadata": {},
   "outputs": [],
   "source": [
    "def plot_genome_field(field, ax):\n",
    "    figure = np.zeros(field.shape)\n",
    "    for i in range(figure.shape[0]):\n",
    "        for j in range(figure.shape[1]):\n",
    "            try:\n",
    "                figure[i,j] = field[i,j].get_ancestors()[-1]\n",
    "            except:\n",
    "                figure[i,j] = 0\n",
    "\n",
    "    # ax.set_cmap('gist_ncar')  # A colorful map where 0 is black and other values are vivid\n",
    "    ax.imshow(figure, cmap='gist_ncar')\n",
    "    # ax.colorbar()\n",
    "    ax.set_title('Genome field')\n",
    "\n",
    "    ax.tick_params(axis='both', which='both', length=0, labelbottom=False, labelleft=False)\n",
    "    "
   ]
  },
  {
   "cell_type": "code",
   "execution_count": 13,
   "metadata": {},
   "outputs": [],
   "source": [
    "def plot_antibiotics_field(field, ax):\n",
    "    figure = np.zeros(field.shape)\n",
    "    for i in range(figure.shape[0]):\n",
    "        for j in range(figure.shape[1]):\n",
    "            try:\n",
    "                figure[i,j] = len(set(field[i,j]))\n",
    "            except:\n",
    "                figure[i,j] = 0\n",
    "            \n",
    "    # ax.set_cmap('viridis')  # A colorful map where 0 is black and other values are vivid\n",
    "    im = ax.imshow(figure, cmap='viridis')\n",
    "    plt.colorbar(im, ax=ax)\n",
    "    ax.set_title('Antibiotics field')\n",
    "    ax.tick_params(axis='both', which='both', length=0, labelbottom=False, labelleft=False)"
   ]
  },
  {
   "cell_type": "code",
   "execution_count": 14,
   "metadata": {},
   "outputs": [],
   "source": [
    "def plot_ancestral_field(field,ax):\n",
    "    figure = np.zeros(field.shape)\n",
    "    for i in range(figure.shape[0]):\n",
    "        for j in range(figure.shape[1]):\n",
    "            try:\n",
    "                figure[i,j] = field[i,j].get_ancestors()[0]\n",
    "            except:\n",
    "                figure[i,j] = 0\n",
    "\n",
    "    # ax.set_cmap('gist_ncar')  # A colorful map where 0 is black and other values are vivid\n",
    "    ax.imshow(figure, cmap='gist_ncar')\n",
    "    ax.set_title('Ancestor field')\n",
    "    ax.tick_params(axis='both', which='both', length=0, labelbottom=False, labelleft=False)\n"
   ]
  },
  {
   "cell_type": "code",
   "execution_count": 15,
   "metadata": {},
   "outputs": [],
   "source": [
    "def count_cells(field):\n",
    "    count = 0\n",
    "    for i in range(field.shape[0]):\n",
    "        for j in range(field.shape[1]):\n",
    "            if field[i,j] is not None:\n",
    "                count += 1\n",
    "    return count"
   ]
  },
  {
   "cell_type": "code",
   "execution_count": 16,
   "metadata": {},
   "outputs": [],
   "source": [
    "def show_population(genome_field,antibiotics_field):\n",
    "    fig, axs = plt.subplots(1, 2, figsize=(15, 5))\n",
    "    print(f\"Total NO. of Cells in System is {count_cells(genome_field)}\")\n",
    "    plot_ancestral_field(genome_field, axs[0])\n",
    "    plot_antibiotics_field(antibiotics_field, axs[1])\n",
    "    plt.show()"
   ]
  },
  {
   "cell_type": "code",
   "execution_count": 17,
   "metadata": {},
   "outputs": [
    {
     "name": "stdout",
     "output_type": "stream",
     "text": [
      "Total NO. of Cells in System is 20\n"
     ]
    },
    {
     "data": {
      "image/png": "[encoded data removed]",
      "text/plain": [
       "<Figure size 1500x500 with 3 Axes>"
      ]
     },
     "metadata": {},
     "output_type": "display_data"
    }
   ],
   "source": [
    "genome_field,antibiotics_field = generate_random_field(field_size=field_size, n_cells=20)\n",
    "show_population(genome_field,antibiotics_field)"
   ]
  },
  {
   "cell_type": "code",
   "execution_count": 29,
   "metadata": {},
   "outputs": [
    {
     "name": "stdout",
     "output_type": "stream",
     "text": [
      "[[None None None ... None None None]\n",
      " [None None None ... None None None]\n",
      " [None None None ... None None None]\n",
      " ...\n",
      " [None None None ... None None None]\n",
      " [None None None ... None None None]\n",
      " [None None None ... None None None]]\n"
     ]
    }
   ],
   "source": [
    "print(antibiotics_field)"
   ]
  },
  {
   "cell_type": "markdown",
   "metadata": {},
   "source": [
    "## Cell behaviours\n"
   ]
  },
  {
   "cell_type": "code",
   "execution_count": 18,
   "metadata": {},
   "outputs": [],
   "source": [
    "def cell_copy(genome_field,antibiotics_field, cell, new_location):\n",
    "    # These functions directly act on genome field and antibiotics field\n",
    "    # Copy one cell to a new location, retain anscestorial history\n",
    "    new_cell = cell.born_cell(new_location)\n",
    "    #new_cell = genome_mutation(new_cell) # genome mutatuion is added here\n",
    "    nx = new_location[0]\n",
    "    ny = new_location[1]\n",
    "    genome_field[nx,ny] = new_cell\n",
    "    # antibiotics_field[nx,ny] = np.append(antibiotics_field[nx,ny],new_cell.get_ABR())\n",
    "    \n",
    "    return genome_field, antibiotics_field\n",
    "\n",
    "def cell_replication(genome_field,antibiotics_field, cell):\n",
    "    # These functions directly act on genome field and antibiotics field\n",
    "    # Replicate a cell to a neighbouring location\n",
    "    neighbourhood_vectors = [(0,1),(0,-1),(1,0),(-1,0),(1,1),(1,-1),(-1,1),(-1,-1)]\n",
    "    nx = cell.get_location()[0]\n",
    "    ny = cell.get_location()[1]\n",
    "    np.random.shuffle(neighbourhood_vectors)\n",
    "    for v in neighbourhood_vectors:\n",
    "        dx = v[0]\n",
    "        dy = v[1]\n",
    "        if nx+dx >= 0 and nx+dx < genome_field.shape[0] and ny+dy >= 0 and ny+dy < genome_field.shape[1]:\n",
    "            if genome_field[nx+dx,ny+dy] is None:\n",
    "                genome_field, antibiotics_field = cell_copy(genome_field,antibiotics_field, cell, (nx+dx,ny+dy))\n",
    "                break\n",
    "    \n",
    "    return genome_field, antibiotics_field\n",
    "\n",
    "        \n",
    "def cell_death(genome_field,antibiotics_field, cell, location):\n",
    "    # These functions directly act on genome field and antibiotics field\n",
    "    # Kill\n",
    "    genome_field[location[0],location[1]] = None\n",
    "\n",
    "    return genome_field, antibiotics_field\n",
    "\n",
    "def cell_move(genome_field,antibiotics_field, cell, new_location):\n",
    "    # These functions directly act on genome field and antibiotics field\n",
    "    # Move to a new location\n",
    "    nx = new_location[0]\n",
    "    ny = new_location[1]\n",
    "    genome_field[nx,ny] = cell\n",
    "    # antibiotics_field[nx,ny] = np.append(antibiotics_field[nx,ny],cell.get_ABR())\n",
    "    genome_field[cell.get_location()[0],cell.get_location()[1]] = None\n",
    "\n",
    "    return genome_field, antibiotics_field"
   ]
  },
  {
   "cell_type": "code",
   "execution_count": 19,
   "metadata": {},
   "outputs": [],
   "source": [
    "def is_cell_move(genome_field, location):\n",
    "    if genome_field[location[0],location[1]] is None:\n",
    "        return True\n",
    "    else:\n",
    "        return False\n",
    "    \n",
    "def is_cell_death(genome_field, location):\n",
    "    if genome_field[location[0],location[1]] is not None:\n",
    "        return True\n",
    "    else:\n",
    "        return False\n",
    "    \n"
   ]
  },
  {
   "cell_type": "code",
   "execution_count": 20,
   "metadata": {},
   "outputs": [],
   "source": [
    "def calculate_radius_vectors(radius):\n",
    "    radius_vectors = []\n",
    "    for i in range(-radius,radius+1):\n",
    "        for j in range(-radius,radius+1):\n",
    "            if i**2+j**2 <= radius**2:\n",
    "                radius_vectors.append((i,j))\n",
    "    return radius_vectors\n",
    "\n",
    "def antibiotics_secretion(genome_field,antibiotics_field, cell, radius_vectors):\n",
    "    # this is the function for producing antibiotics\n",
    "    nx = cell.get_location()[0]\n",
    "    ny = cell.get_location()[1]\n",
    "    abr = cell.get_ABR()\n",
    "    ab_gene = np.random.choice(cell.get_ABR()) \n",
    "    for vec in radius_vectors:\n",
    "        dx = vec[0]\n",
    "        dy = vec[1]\n",
    "        \n",
    "        if nx+dx >= 0 and nx+dx < genome_field.shape[0] and ny+dy >= 0 and ny+dy < genome_field.shape[1]:\n",
    "            if antibiotics_field[nx+dx,ny+dy] is None:\n",
    "                antibiotics_field[nx+dx,ny+dy] = np.array([ab_gene])\n",
    "            else:\n",
    "                if np.isin(ab_gene, antibiotics_field[nx+dx,ny+dy]):\n",
    "                    continue\n",
    "                else:\n",
    "                    antibiotics_field[nx+dx,ny+dy] = np.append(antibiotics_field[nx+dx,ny+dy],ab_gene)\n",
    "\n",
    "    \n",
    "    return genome_field, antibiotics_field"
   ]
  },
  {
   "cell_type": "code",
   "execution_count": 21,
   "metadata": {},
   "outputs": [],
   "source": [
    "# def select_random_cell(genome_field): this is too slow so not used any more\n",
    "#     # Select a random cell from the field\n",
    "#     populate = True\n",
    "#     while populate:\n",
    "#         i = np.random.randint(0, genome_field.shape[0])\n",
    "#         j = np.random.randint(0, genome_field.shape[1])\n",
    "#         if genome_field[i,j] is not None:\n",
    "#             populate = False\n",
    "    \n",
    "#     return (i,j), genome_field[i,j]\n",
    "\n",
    "def select_random_cell(genome_field):\n",
    "    # Select a random cell from the field\n",
    "    cells = get_all_cells(genome_field)\n",
    "    cell = np.random.choice(cells)\n",
    "    location = cell.get_location()\n",
    "    return location, cell\n",
    "\n",
    "def get_all_cells(genome_field):\n",
    "    cells = []\n",
    "    for i in range(genome_field.shape[0]):\n",
    "        for j in range(genome_field.shape[1]):\n",
    "            if genome_field[i,j] is not None:\n",
    "                cells.append(genome_field[i,j])\n",
    "    return cells"
   ]
  },
  {
   "cell_type": "code",
   "execution_count": 22,
   "metadata": {},
   "outputs": [
    {
     "name": "stdout",
     "output_type": "stream",
     "text": [
      "Total NO. of Cells in System is 10\n"
     ]
    },
    {
     "data": {
      "image/png": "[encoded data removed]",
      "text/plain": [
       "<Figure size 1500x500 with 3 Axes>"
      ]
     },
     "metadata": {},
     "output_type": "display_data"
    },
    {
     "name": "stdout",
     "output_type": "stream",
     "text": [
      "Total NO. of Cells in System is 10\n"
     ]
    },
    {
     "data": {
      "image/png": "[encoded data removed]",
      "text/plain": [
       "<Figure size 1500x500 with 3 Axes>"
      ]
     },
     "metadata": {},
     "output_type": "display_data"
    }
   ],
   "source": [
    "# Test antibiotic secretion\n",
    "r_a = 2\n",
    "r_2 = calculate_radius_vectors(r_a)\n",
    "\n",
    "genome_field,antibiotics_field = generate_random_field(field_size=field_size, n_cells=10)\n",
    "show_population(genome_field,antibiotics_field)\n",
    "cells = get_all_cells(genome_field)\n",
    "for cell in cells:\n",
    "    genome_field,antibiotics_field = antibiotics_secretion(genome_field,antibiotics_field, cell, r_2)\n",
    "\n",
    "show_population(genome_field,antibiotics_field)\n"
   ]
  },
  {
   "cell_type": "code",
   "execution_count": 23,
   "metadata": {},
   "outputs": [
    {
     "name": "stdout",
     "output_type": "stream",
     "text": [
      "[41402. 50804.  4510. 52257. 48040. 29316. 26288. 13547. 39365. 58566.\n",
      " 45087. 28269. 17887.]\n",
      "None\n",
      "[26288.]\n"
     ]
    }
   ],
   "source": [
    "cell1 = get_all_cells(genome_field)[0]\n",
    "print(cell1.get_ABR())\n",
    "abr = antibiotics_field[cell1.get_location()[0],cell1.get_location()[1]]\n",
    "print(antibiotics_field[0,0])\n",
    "print(abr)"
   ]
  },
  {
   "cell_type": "code",
   "execution_count": 31,
   "metadata": {},
   "outputs": [
    {
     "name": "stdout",
     "output_type": "stream",
     "text": [
      "Total NO. of Cells in System is 20\n"
     ]
    },
    {
     "data": {
      "image/png": "[encoded data removed]",
      "text/plain": [
       "<Figure size 1500x500 with 3 Axes>"
      ]
     },
     "metadata": {},
     "output_type": "display_data"
    },
    {
     "name": "stdout",
     "output_type": "stream",
     "text": [
      "Total NO. of Cells in System is 1282\n"
     ]
    },
    {
     "data": {
      "image/png": "[encoded data removed]",
      "text/plain": [
       "<Figure size 1500x500 with 3 Axes>"
      ]
     },
     "metadata": {},
     "output_type": "display_data"
    }
   ],
   "source": [
    "# Test the cell replication\n",
    "genome_field,antibiotics_field = generate_random_field(field_size=field_size, n_cells=20)\n",
    "show_population(genome_field,antibiotics_field)\n",
    "\n",
    "for _ in range(2000):\n",
    "    coordinate,cell = select_random_cell(genome_field)\n",
    "    genome_field, antibiotics_field = cell_replication(genome_field,antibiotics_field, cell)\n",
    "\n",
    "cells = get_all_cells(genome_field)\n",
    "for cell in cells:\n",
    "    genome_field,antibiotics_field = antibiotics_secretion(genome_field,antibiotics_field, cell, vec_r_a)\n",
    "\n",
    "show_population(genome_field,antibiotics_field)"
   ]
  },
  {
   "cell_type": "code",
   "execution_count": 32,
   "metadata": {},
   "outputs": [
    {
     "name": "stdout",
     "output_type": "stream",
     "text": [
      "[[array([14938., 55509.,   131., 39505., 14723., 17426.])\n",
      "  array([14938., 55509., 14723.,   131., 39505., 17426.])\n",
      "  array([14938., 55509., 14723.,   131., 39505., 17426.]) ...\n",
      "  array([31384.]) array([31384.]) None]\n",
      " [array([14938.,   131., 39505., 14723., 55509., 17426.])\n",
      "  array([14938., 55509.,   131., 39505., 14723., 17426., 24099.])\n",
      "  array([14938., 55509., 14723.,   131., 39505., 17426., 24099.]) ...\n",
      "  array([31384., 62752.,  7959.]) array([31384.]) None]\n",
      " [array([14938.,   131., 39505., 55509., 14723., 17426., 24099.])\n",
      "  array([14938., 55509.,   131., 39505., 14723., 17426., 24099.])\n",
      "  array([14938., 55509., 14723.,   131., 39505., 17426., 24099.]) ...\n",
      "  array([62752., 31384., 32606., 59436.,  7959.])\n",
      "  array([31384., 59436.,  7959.]) array([31384.,  7959.])]\n",
      " ...\n",
      " [None None None ... None None None]\n",
      " [None None None ... None None None]\n",
      " [None None None ... None None None]]\n"
     ]
    }
   ],
   "source": [
    "print(antibiotics_field)"
   ]
  },
  {
   "cell_type": "markdown",
   "metadata": {},
   "source": [
    "## Genome Behavior"
   ]
  },
  {
   "cell_type": "code",
   "execution_count": 26,
   "metadata": {},
   "outputs": [],
   "source": [
    "def which_abr(cell, locus):\n",
    "    # this function is to find the resistance correspond to a antibiotic gene in genome\n",
    "    genome = cell.get_genome()\n",
    "    antibiotics = cell.antibiotics\n",
    "    \n",
    "    i = np.count_nonzero(genome[:locus] == 'A')\n",
    "    abr = antibiotics[i-1]\n",
    "    return i, abr\n",
    "def gene_duplication(cell, gene_locus): # this function may be problematic\n",
    "    \"\"\"\n",
    "    Caution!!!\n",
    "    For unknown reason, this function will not work properly\n",
    "    but for now it is functional and will be used in the code\n",
    "    \"\"\"\n",
    "\n",
    "    # Duplicate a gene in the genome at a random insertion site\n",
    "    insertion_site = np.random.randint(0, len(cell.genome))\n",
    "    \n",
    "    # If the gene is an antibiotic gene ('A'), duplicate its corresponding antibiotic entry\n",
    "    if cell.genome[gene_locus] == 'A':\n",
    "        i,abr = which_abr(cell, gene_locus)\n",
    "        cell.antibiotics = np.insert(cell.antibiotics, i, abr)\n",
    "\n",
    "    # Insert the gene at the new location\n",
    "    cell.genome = np.insert(cell.genome, insertion_site, cell.genome[gene_locus])\n",
    "\n",
    "\n",
    "    return cell\n",
    "\n",
    "\n",
    "def gene_deletion(cell,gene_locus):\n",
    "    # Delete a gene in the genome\n",
    "    # The gene will be deleted from the genome, and the corresponding antibiotics gene will also be deleted\n",
    "    if cell.genome[gene_locus] == 'A':\n",
    "\n",
    "        i, abr = which_abr(cell, gene_locus)\n",
    "        cell.antibiotics = np.delete(cell.antibiotics, i)\n",
    "\n",
    "    cell.genome = np.delete(cell.genome, gene_locus)\n",
    "    \n",
    "    return cell\n",
    "\n",
    "\n",
    "\n",
    "def fragile_deletion(cell,gene_locus):\n",
    "    # Delete a fragile gene in the genome\n",
    "    # The fragile gene and all genes after it will be deleted from the genome\n",
    "    if cell.genome[gene_locus] == 'F':\n",
    "        i, abr = which_abr(cell, gene_locus)\n",
    "        # Get indices to delete\n",
    "        cell.genome = cell.genome[:gene_locus]\n",
    "        # Count antibiotics genes before fragile site\n",
    "        if i == 0:\n",
    "            cell.antibiotics = []\n",
    "        else:\n",
    "            cell.antibiotics = cell.antibiotics[:i]\n",
    "        return cell\n",
    "\n",
    "    else:\n",
    "        return 0\n",
    "    \n",
    "    \n",
    "\n",
    "def fragile_generation(cell):\n",
    "    # Generate a fragile gene in the genome\n",
    "    # The fragile gene will be inserted at a random location in the genome\n",
    "    gene_locus = np.random.randint(0, len(cell.genome))\n",
    "    cell.genome = np.insert(cell.genome, gene_locus, 'F')\n",
    "    return cell\n",
    "\n",
    "def antibiotics_mutation(cell):\n",
    "    # Mutate the antibiotics gene in the genome\n",
    "    # The antibiotics gene will be mutated by a random mutation\n",
    "    while True:\n",
    "        gene_locus = np.random.randint(0, len(cell.genome))\n",
    "        if cell.genome[gene_locus] == 'A':\n",
    "            break\n",
    "    i = np.count_nonzero(cell.genome[:gene_locus] == 'A')\n",
    "    cell.antibiotics[i].uniform_mutate()\n",
    "    return cell\n",
    "\n"
   ]
  },
  {
   "cell_type": "code",
   "execution_count": 27,
   "metadata": {},
   "outputs": [
    {
     "name": "stdout",
     "output_type": "stream",
     "text": [
      "['G' 'G' 'G' 'A' 'A' 'F' 'A']\n",
      "3\n",
      "[ 8630. 59682. 13469.]\n"
     ]
    }
   ],
   "source": [
    "cell1 = BacteriaCell(location=(0,0),ancestors=[np.random.randint(0, 0xFFFFFF)], gen_random=False, genome_size=7, genome=['G','G', 'G',  'A', 'A', 'F', 'A'])\n",
    "print(cell1.genome)\n",
    "print(len(cell1.antibiotics))\n",
    "print(cell1.get_ABR())\n",
    "\n"
   ]
  },
  {
   "cell_type": "code",
   "execution_count": 28,
   "metadata": {},
   "outputs": [
    {
     "name": "stdout",
     "output_type": "stream",
     "text": [
      "['G'] 0\n",
      "['G' 'G'] 0\n",
      "['G' 'G' 'G'] 0\n",
      "['G' 'G' 'G' 'A'] 0\n",
      "['G' 'G' 'G' 'A' 'A'] 1\n",
      "['G' 'G' 'G' 'A' 'A' 'F'] 2\n",
      "['G' 'G' 'G' 'A' 'A' 'F' 'A'] 2\n"
     ]
    }
   ],
   "source": [
    "for i in range(len(cell1.genome)):\n",
    "    print(cell1.genome[0:i+1],which_abr(cell1, i)[0])\n"
   ]
  },
  {
   "cell_type": "code",
   "execution_count": null,
   "metadata": {},
   "outputs": [
    {
     "name": "stdout",
     "output_type": "stream",
     "text": [
      "3\n",
      "3\n",
      "1\n"
     ]
    }
   ],
   "source": [
    "print(cell1.count_genes('A'))\n",
    "print(cell1.count_genes('G'))\n",
    "print(cell1.count_genes('F'))"
   ]
  },
  {
   "cell_type": "code",
   "execution_count": null,
   "metadata": {},
   "outputs": [
    {
     "name": "stdout",
     "output_type": "stream",
     "text": [
      "['G' 'G' 'G' 'A' 'A' 'A' 'F' 'A']\n",
      "4\n",
      "[44445. 44445.  6037. 52891.]\n"
     ]
    }
   ],
   "source": [
    "cell1 = gene_duplication(cell1, 3)\n",
    "print(cell1.genome)\n",
    "print(len(cell1.antibiotics))\n",
    "print(cell1.get_ABR())"
   ]
  },
  {
   "cell_type": "code",
   "execution_count": null,
   "metadata": {},
   "outputs": [
    {
     "name": "stdout",
     "output_type": "stream",
     "text": [
      "['G' 'G' 'A' 'A' 'A' 'F' 'A']\n",
      "4\n",
      "[44445. 44445.  6037. 52891.]\n"
     ]
    }
   ],
   "source": [
    "cell1 = gene_deletion(cell1, 1)\n",
    "print(cell1.genome)\n",
    "print(len(cell1.antibiotics))\n",
    "print(cell1.get_ABR())"
   ]
  },
  {
   "cell_type": "code",
   "execution_count": null,
   "metadata": {},
   "outputs": [
    {
     "name": "stdout",
     "output_type": "stream",
     "text": [
      "['G' 'F' 'G' 'G' 'A' 'A' 'F' 'A']\n",
      "3\n",
      "[50153. 30892. 44896.]\n"
     ]
    }
   ],
   "source": [
    "cell1 = fragile_generation(cell1)\n",
    "print(cell1.genome)\n",
    "print(len(cell1.antibiotics))\n",
    "print(cell1.get_ABR())"
   ]
  },
  {
   "cell_type": "code",
   "execution_count": null,
   "metadata": {},
   "outputs": [
    {
     "name": "stdout",
     "output_type": "stream",
     "text": [
      "['G' 'G' 'F' 'A' 'A' 'A' 'F' 'A']\n",
      "4\n",
      "[28592. 28592.  6037. 52891.]\n"
     ]
    }
   ],
   "source": [
    "cell1 = antibiotics_mutation(cell1)\n",
    "print(cell1.genome)\n",
    "print(len(cell1.antibiotics))\n",
    "print(cell1.get_ABR())"
   ]
  },
  {
   "cell_type": "code",
   "execution_count": null,
   "metadata": {},
   "outputs": [
    {
     "name": "stdout",
     "output_type": "stream",
     "text": [
      "['G']\n",
      "0\n",
      "[]\n"
     ]
    }
   ],
   "source": [
    "cell1 = fragile_deletion(cell1, 0)\n",
    "print(cell1.genome)\n",
    "print(len(cell1.antibiotics))\n",
    "print(cell1.get_ABR())"
   ]
  },
  {
   "cell_type": "markdown",
   "metadata": {},
   "source": [
    "## Probability calculation"
   ]
  },
  {
   "cell_type": "code",
   "execution_count": null,
   "metadata": {},
   "outputs": [],
   "source": [
    "def genome_mutation(cell, mu_a = 0.005, mu_d = 0.001, mu_f = 0.01, mu_n = 0.01):\n",
    "    # Mutate the genome of a cell\n",
    "    # \n",
    "    n_A = cell.count_genes('A')\n",
    "    n_G = cell.count_genes('G')\n",
    "    n_F = cell.count_genes('F')\n",
    "    n_genes = len(cell.genome)\n",
    "    # Duplication and deletion\n",
    "    # only one event can happen at a time\n",
    "    for i in range(n_genes):\n",
    "        if cell.genome[i] == 'A':\n",
    "            if np.random.rand() < mu_a:\n",
    "                cell = antibiotics_mutation(cell)\n",
    "                break\n",
    "        if np.random.rand() < mu_d:\n",
    "            cell = gene_duplication(cell, i)\n",
    "            break\n",
    "        if np.random.rand() < mu_d:\n",
    "            pass\n",
    "            cell = gene_deletion(cell, i)\n",
    "            break\n",
    "        if np.random.rand() < mu_f:\n",
    "            tmp_cell = fragile_deletion(cell, i)\n",
    "            if tmp_cell != 0:\n",
    "                cell = tmp_cell\n",
    "                break\n",
    "        \n",
    "\n",
    "    # Fragile site generation\n",
    "    if np.random.rand() < mu_n:\n",
    "        cell = fragile_generation(cell)\n",
    "\n",
    "    return cell\n"
   ]
  },
  {
   "cell_type": "code",
   "execution_count": null,
   "metadata": {},
   "outputs": [
    {
     "name": "stdout",
     "output_type": "stream",
     "text": [
      "['G' 'F' 'G' 'G' 'G']\n",
      "5\n",
      "0\n",
      "[]\n",
      "['G' 'G' 'F' 'G' 'G' 'G']\n",
      "6\n",
      "0\n",
      "[]\n"
     ]
    }
   ],
   "source": [
    "cell = BacteriaCell(location=(0,0),ancestors=[np.random.randint(0, 0xFFFFFF)], gen_random=True, genome_size=5)\n",
    "print(cell.genome)\n",
    "print(len(cell.genome))\n",
    "print(len(cell.antibiotics))\n",
    "print(cell.get_ABR())\n",
    "\n",
    "cell = genome_mutation(cell, mu_a = 0, mu_d = 1, mu_f = 0, mu_n = 0)\n",
    "print(cell.genome)\n",
    "print(len(cell.genome))\n",
    "print(len(cell.antibiotics))\n",
    "print(cell.get_ABR())\n"
   ]
  },
  {
   "cell_type": "code",
   "execution_count": null,
   "metadata": {},
   "outputs": [],
   "source": [
    "def hamming_distance(a,b):\n",
    "    # Calculate the hamming distance between two bit strings\n",
    "    return bin(a^b).count('1')\n",
    "\n",
    "def calc_antibiotics_resistance(genome_field,antibiotics_field,cell, beta_r):\n",
    "    # Calculate the resistance of a cell to antibiotics using hamming distance\n",
    "    # For each antibiotic gene in cell:\n",
    "    #   Find minimum hamming distance to any antibiotic in the environment\n",
    "    #   Add minimum distance to total resistance\n",
    "    # Return exp(-beta_r * resistance^2) as final resistance probability\n",
    "    # Lower hamming distance means more similar antibiotics and lower resistance\n",
    "    cell_antibiotics = cell.get_ABR()\n",
    "    s = 0\n",
    "    block_antibiotics = antibiotics_field[cell.get_location()[0],cell.get_location()[1]]\n",
    "    for i in range(len(cell_antibiotics)):\n",
    "        min_d = 0\n",
    "        if block_antibiotics is None:\n",
    "            block_antibiotics = []\n",
    "        for j in range(len(block_antibiotics)):\n",
    "\n",
    "            dist = hamming_distance(cell_antibiotics[i],block_antibiotics[j])\n",
    "            if dist < min_d:\n",
    "                min_d = dist\n",
    "        s += min_d \n",
    "\n",
    "    \n",
    "    \n",
    "    return np.exp(-beta_r * s^2)\n",
    "    \n",
    "\n",
    "def calc_rep_prob(genome_field,antibiotics_field,cell, alpha_g, h_g, beta_r):\n",
    "    # Calculate the probability of replication of a cell\n",
    "    # The probability of replication is a function of the number of growth genes in the genome\n",
    "    # and the number of antibiotics genes in the genome\n",
    "    n_G = cell.count_genes('G')\n",
    "    R = calc_antibiotics_resistance(genome_field,antibiotics_field,cell, beta_r)\n",
    "    return alpha_g * R * n_G / (h_g + n_G) \n",
    "\n",
    "def calc_death_prob(genome_field,antibiotics_field,cell, alpha_g, h_g, beta_r):\n",
    "    # Calculate the probability of death of a cell\n",
    "    # The probability of death is a function of the number of growth genes in the genome\n",
    "    # and the number of antibiotics genes in the genome\n",
    "    R = calc_antibiotics_resistance(genome_field,antibiotics_field,cell, beta_r)\n",
    "    return 1 - R\n",
    "    \n",
    "def calc_ab_prob(genome_field,antibiotics_field,cell, alpha_a,h_a, beta_g):\n",
    "    # Calculate the probability of antibiotics production of a cell\n",
    "    # The probability of antibiotics production is a function of the number of antibiotics genes in the genome\n",
    "    n_A = cell.count_genes('A')\n",
    "    n_G = cell.count_genes('G')\n",
    "    return alpha_a * n_A / (h_a + n_A) * np.exp(-beta_g * n_G)"
   ]
  },
  {
   "cell_type": "code",
   "execution_count": null,
   "metadata": {},
   "outputs": [],
   "source": [
    "def cell_activity(genome_field,antibiotics_field,cell):\n",
    "    # Calculate the activity of a cell\n",
    "    # The activity of a cell is a function of the number of growth genes in the genome\n",
    "    # and the number of antibiotics genes in the genome\n",
    "    abr = calc_antibiotics_resistance(genome_field,antibiotics_field,cell, beta_r)\n",
    "    rep_prob = calc_rep_prob(genome_field,antibiotics_field,cell, alpha_g, h_g, beta_r)\n",
    "    death_prob = calc_death_prob(genome_field,antibiotics_field,cell, alpha_g, h_g, beta_r)\n",
    "    ab_prob = calc_ab_prob(genome_field,antibiotics_field,cell, alpha_a,h_a, beta_g)\n",
    "    try:\n",
    "        if np.random.rand() < rep_prob:\n",
    "            genome_field, antibiotics_field = cell_replication(genome_field,antibiotics_field, cell)\n",
    "        if np.random.rand() < death_prob:\n",
    "            genome_field, antibiotics_field = cell_death(genome_field,antibiotics_field, cell, cell.get_location())\n",
    "        if np.random.rand() < ab_prob:\n",
    "            genome_field, antibiotics_field = antibiotics_secretion(genome_field,antibiotics_field, cell, vec_r_a)\n",
    "\n",
    "    except:\n",
    "        pass\n",
    "    return genome_field, antibiotics_field\n",
    "\n",
    "    "
   ]
  },
  {
   "cell_type": "code",
   "execution_count": null,
   "metadata": {},
   "outputs": [
    {
     "ename": "NameError",
     "evalue": "name 'generate_random_field' is not defined",
     "output_type": "error",
     "traceback": [
      "\u001b[0;31m---------------------------------------------------------------------------\u001b[0m",
      "\u001b[0;31mNameError\u001b[0m                                 Traceback (most recent call last)",
      "Cell \u001b[0;32mIn[2], line 1\u001b[0m\n\u001b[0;32m----> 1\u001b[0m genome_field,antibiotics_field \u001b[38;5;241m=\u001b[39m \u001b[43mgenerate_random_field\u001b[49m(field_size\u001b[38;5;241m=\u001b[39mfield_size, n_cells\u001b[38;5;241m=\u001b[39m\u001b[38;5;241m20\u001b[39m)\n\u001b[1;32m      2\u001b[0m show_population(genome_field,antibiotics_field)\n\u001b[1;32m      4\u001b[0m \u001b[38;5;28;01mfor\u001b[39;00m _ \u001b[38;5;129;01min\u001b[39;00m \u001b[38;5;28mrange\u001b[39m(\u001b[38;5;241m2000\u001b[39m):\n",
      "\u001b[0;31mNameError\u001b[0m: name 'generate_random_field' is not defined"
     ]
    }
   ],
   "source": [
    "genome_field,antibiotics_field = generate_random_field(field_size=field_size, n_cells=20)\n",
    "show_population(genome_field,antibiotics_field)\n",
    "\n",
    "for _ in range(2000):\n",
    "    coordinate,cell = select_random_cell(genome_field)\n",
    "    genome_field, antibiotics_field = cell_activity(genome_field,antibiotics_field, cell)\n",
    "\n",
    "show_population(genome_field,antibiotics_field)\n"
   ]
  }
 ],
 "metadata": {
  "kernelspec": {
   "display_name": "Python3.11 (mcb_env)",
   "language": "python",
   "name": "mcb_env"
  },
  "language_info": {
   "codemirror_mode": {
    "name": "ipython",
    "version": 3
   },
   "file_extension": ".py",
   "mimetype": "text/x-python",
   "name": "python",
   "nbconvert_exporter": "python",
   "pygments_lexer": "ipython3",
   "version": "3.11.11"
  }
 },
 "nbformat": 4,
 "nbformat_minor": 2
}
